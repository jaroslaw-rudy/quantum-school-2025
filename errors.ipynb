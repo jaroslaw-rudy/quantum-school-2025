{
 "cells": [
  {
   "cell_type": "markdown",
   "id": "ad9d11fa",
   "metadata": {},
   "source": [
    "# Lab part 1: Errors and QPU configuration\n",
    "The purpose of this exercise is to test some circuit effects related to thermal relaxation, gate fidelity and circuit depth in the context of both QPU simulators and actual hardware. The exercise is divided into 4 sections:\n",
    "1. Thermal relaxation.\n",
    "<br><br>\n",
    "2. Single-qubit gate fidelity.\n",
    "<br><br>\n",
    "3. Two-qubit gate fidelity.\n",
    "<br><br>\n",
    "4. Accessing backend profile/metrics."
   ]
  },
  {
   "cell_type": "markdown",
   "id": "23e75f69",
   "metadata": {},
   "source": [
    "## 0. Preliminaries\n",
    "Here we prepare information necessary to use our two backends — a simulated (fake) backend and an actual QPU hardware — as well as miscellaneous parameters like the number of shots. This part can be modified to suit your needs (different authentication data, connecting to a different QPU, different number of shots etc.)"
   ]
  },
  {
   "cell_type": "code",
   "execution_count": null,
   "id": "01a2d82e",
   "metadata": {},
   "outputs": [],
   "source": [
    "import os\n",
    "from math import pi\n",
    "import numpy as np\n",
    "import matplotlib.pyplot as mpl\n",
    "from rustworkx.visualization import mpl_draw\n",
    "from rustworkx import spring_layout\n",
    "from iqm.qiskit_iqm.fake_backends import fake_adonis\n",
    "from qiskit import QuantumCircuit, transpile\n",
    "\n",
    "def getRealBackend(env = 'secret.env'):\n",
    "    from dotenv import load_dotenv\n",
    "    from iqm.qiskit_iqm.iqm_provider import IQMProvider\n",
    "\n",
    "    load_dotenv(env)\n",
    "\n",
    "    os.environ[\"IQM_AUTH_USERNAME\"] = os.getenv(\"IQM_AUTH_USERNAME\")\n",
    "    os.environ[\"IQM_AUTH_PASSWORD\"] = os.getenv(\"IQM_AUTH_PASSWORD\")\n",
    "    os.environ[\"IQM_AUTH_SERVER\"] = os.getenv(\"IQM_AUTH_SERVER\")\n",
    "    if \"IQM_TOKENS_FILE\" in os.environ:\n",
    "        os.environ.pop('IQM_TOKENS_FILE')\n",
    "\n",
    "    iqm_url = \"https://odra5.e-science.pl/station\"\n",
    "    provider = IQMProvider(iqm_url)\n",
    "\n",
    "    return provider.get_backend()\n",
    "\n",
    "simBackend = fake_adonis.IQMFakeAdonis()\n",
    "realBackend = getRealBackend()\n",
    "\n",
    "shots = 1000"
   ]
  },
  {
   "cell_type": "markdown",
   "id": "181726c9",
   "metadata": {},
   "source": [
    "## 1. Thermal relaxation\n",
    "* The purpose of this exercise is to see how the length (in time) of the circuit affects the measurement.\n",
    "<br><br>\n",
    "* To this end, we first preapre a qubit in state $\\ket{0}$ and we use a single $R_x(\\pi)$ gate to obtain state $\\ket{1}$.\n",
    "<br><br>\n",
    "* We then introduce a delay in nanoseconds in the circut using the `delay()` function.\n",
    "<br><br>\n",
    "* The qubit is then measured.\n",
    "<br><br>\n",
    "* Below is a template for constructing, transpiing and running the circuit for a number of different delays and for different backends."
   ]
  },
  {
   "cell_type": "code",
   "execution_count": null,
   "id": "78591e3e",
   "metadata": {},
   "outputs": [],
   "source": [
    "def runEx1(delays, sim, results, shots=1000, qubit=0):\n",
    "    for delay in delays:\n",
    "        qc = QuantumCircuit(1, 1)\n",
    "        qc.rx(pi, 0)\n",
    "        qc.delay(delay, None, \"ns\")\n",
    "        qc.measure(0, 0)\n",
    "        if sim:\n",
    "            backend = fake_adonis.IQMFakeAdonis()\n",
    "        else:\n",
    "            backend = getRealBackend()\n",
    "        transpiled = transpile(qc, target=backend.restrict_to_qubits([qubit]), optimization_level=0)\n",
    "        job = backend.run(transpiled, shots=shots)\n",
    "        if sim:\n",
    "            results.append(job.result().to_dict()['results'][0]['data']['counts']['0x1'])\n",
    "        else:\n",
    "            results.append(job.result().to_dict()['results'][0]['data']['counts']['1'])"
   ]
  },
  {
   "cell_type": "markdown",
   "id": "698be540",
   "metadata": {},
   "source": [
    "Now we execute the circuits for different delay values using both a simulator and a real QPU."
   ]
  },
  {
   "cell_type": "code",
   "execution_count": null,
   "id": "e428e2a3",
   "metadata": {},
   "outputs": [],
   "source": [
    "delays = [2**i for i in range(4, 17)]\n",
    "resultsSim1 = []\n",
    "resultsReal1 = []\n",
    "\n",
    "runEx1(delays, True, resultsSim1)\n",
    "runEx1(delays, False, resultsReal1)"
   ]
  },
  {
   "cell_type": "markdown",
   "id": "89ea09c3",
   "metadata": {},
   "source": [
    "We use the obtained data to plot the probability of measuring state $\\ket{1}$ with regards to circuit length. "
   ]
  },
  {
   "cell_type": "code",
   "execution_count": null,
   "id": "acd27b80",
   "metadata": {},
   "outputs": [],
   "source": [
    "fig, ax = mpl.subplots()\n",
    "ax.plot(delays, [x / shots for x in resultsSim1], label=\"Simulator\")\n",
    "ax.plot(delays, [x / shots for x in resultsReal1], label=\"Hardware\")\n",
    "\n",
    "ax.set(xlabel='Delay (ns)', ylabel='Probability of measuring 1', title='Thermal relaxation')\n",
    "ax.grid()\n",
    "ax.set_xscale('log')\n",
    "ax.legend()\n",
    "mpl.show()"
   ]
  },
  {
   "cell_type": "markdown",
   "id": "8422581d",
   "metadata": {},
   "source": [
    "## 2. Single-qubit gate fidelity\n",
    "* In this exercise we will try to measure how the use of multiple gates affects measurements.\n",
    "<br><br>\n",
    "* We first set our qubit in state $\\ket{1}$.\n",
    "<br><br>\n",
    "* We then apply a number of $R_x(2\\pi)$ gates. As this gate peform a rotation by $360\\degree$, it should not affect the measurement if $R_x$ gate fidelity is equal to 1.\n",
    "<br><br>\n",
    "* Below we construct an appropriate quantum circuit (note `optimization_level=0`, otherwise our rotation gate might be optimized away during transpilation)."
   ]
  },
  {
   "cell_type": "code",
   "execution_count": null,
   "id": "689de0fb",
   "metadata": {},
   "outputs": [],
   "source": [
    "def runEx2(steps, sim, results, shots=1000, qubit=0):\n",
    "    for step in steps:\n",
    "        qc = QuantumCircuit(1, 1)\n",
    "        qc.rx(pi, 0)\n",
    "        for i in range(step):\n",
    "            qc.rx(2*pi, 0)\n",
    "        qc.measure(0, 0)\n",
    "        if sim:\n",
    "            backend = fake_adonis.IQMFakeAdonis()\n",
    "        else:\n",
    "            backend = getRealBackend()\n",
    "        transpiled = transpile(qc, target=backend.restrict_to_qubits([qubit]), optimization_level=0)\n",
    "        job = backend.run(transpiled, shots=shots)\n",
    "        if sim:\n",
    "            results.append(job.result().to_dict()['results'][0]['data']['counts']['0x1'])\n",
    "        else:\n",
    "            results.append(job.result().to_dict()['results'][0]['data']['counts']['1'])"
   ]
  },
  {
   "cell_type": "markdown",
   "id": "dc0086af",
   "metadata": {},
   "source": [
    "We decide on the number of \"meaningless\" rotations."
   ]
  },
  {
   "cell_type": "code",
   "execution_count": null,
   "id": "eafe83e0",
   "metadata": {},
   "outputs": [],
   "source": [
    "steps = [50*x for x in range(2,15)]"
   ]
  },
  {
   "cell_type": "markdown",
   "id": "7a14101a",
   "metadata": {},
   "source": [
    "And run out circuit on the simulator..."
   ]
  },
  {
   "cell_type": "code",
   "execution_count": null,
   "id": "ba11a716",
   "metadata": {},
   "outputs": [],
   "source": [
    "resultsSim2 = []\n",
    "runEx2(steps, True, resultsSim2)"
   ]
  },
  {
   "cell_type": "markdown",
   "id": "ccc08c4f",
   "metadata": {},
   "source": [
    "...and on real hardware."
   ]
  },
  {
   "cell_type": "code",
   "execution_count": null,
   "id": "a4d16041",
   "metadata": {},
   "outputs": [],
   "source": [
    "resultsReal2 = []\n",
    "runEx2(steps, False, resultsReal2)"
   ]
  },
  {
   "cell_type": "markdown",
   "id": "a700f482",
   "metadata": {},
   "source": [
    "We plot the results."
   ]
  },
  {
   "cell_type": "code",
   "execution_count": null,
   "id": "b930c235",
   "metadata": {},
   "outputs": [],
   "source": [
    "fig, ax = mpl.subplots()\n",
    "ax.plot(steps, [x / shots for x in resultsSim2], label=\"Simulator\")\n",
    "ax.plot(steps, [x / shots for x in resultsReal2], label=\"Hardware\")\n",
    "\n",
    "ax.set(xlabel='Numer of rotations', ylabel='Probability of measuring 1', title='Gate error accumulation')\n",
    "ax.grid()\n",
    "ax.legend()\n",
    "mpl.show()"
   ]
  },
  {
   "cell_type": "markdown",
   "id": "b981259a",
   "metadata": {},
   "source": [
    "## 3. Two-qubit gate fidelity\n",
    "* We now perform similar reasoning for two-qubit gate.\n",
    "<br><br>\n",
    "* We will first prepare our system in state $\\ket{01}$.\n",
    "<br><br>\n",
    "* We will try to use `swap` gates. If we use an even number of them, the initial state should be unnaffected.\n",
    "<br><br>\n",
    "* A `swap` gate can be realized with three `CX` (`CNOT`) gates, which we will implement using  a combination of `CZ` and `H` gates.\n",
    "<br><br>\n",
    "* The circuit template is as follows."
   ]
  },
  {
   "cell_type": "code",
   "execution_count": null,
   "id": "dda1386a",
   "metadata": {},
   "outputs": [],
   "source": [
    "def runEx3(steps, sim, results, shots=1000):\n",
    "    for step in steps:\n",
    "        qc = QuantumCircuit(2)\n",
    "        qc.rx(0, 0)\n",
    "        qc.rx(pi, 1)\n",
    "        for i in range(step):\n",
    "            qc.h(1)\n",
    "            qc.cz(0, 1)\n",
    "            qc.h(0)\n",
    "            qc.h(1)\n",
    "            qc.cz(0, 1)\n",
    "            qc.h(0)\n",
    "            qc.h(1)\n",
    "            qc.cz(0, 1)\n",
    "            qc.h(1)\n",
    "        qc.measure_active()\n",
    "        if sim:\n",
    "            backend = fake_adonis.IQMFakeAdonis()\n",
    "        else:\n",
    "            backend = getRealBackend()\n",
    "        transpiled = transpile(qc, backend, optimization_level=0)\n",
    "        job = backend.run(transpiled, shots=shots)\n",
    "        if sim:\n",
    "            results.append(job.result().to_dict()['results'][0]['data']['counts']['0x2'])\n",
    "        else:\n",
    "            results.append(job.result().to_dict()['results'][0]['data']['counts']['10'])"
   ]
  },
  {
   "cell_type": "markdown",
   "id": "4c85a018",
   "metadata": {},
   "source": [
    "We decide on number of steps..."
   ]
  },
  {
   "cell_type": "code",
   "execution_count": null,
   "id": "797f106d",
   "metadata": {},
   "outputs": [],
   "source": [
    "steps = [0] + [2**i for i in range(1, 12)]"
   ]
  },
  {
   "cell_type": "markdown",
   "id": "fe038075",
   "metadata": {},
   "source": [
    "...run the simulator..."
   ]
  },
  {
   "cell_type": "code",
   "execution_count": null,
   "id": "79bdc285",
   "metadata": {},
   "outputs": [],
   "source": [
    "resultsSim3 = []\n",
    "runEx3(steps, True, resultsSim3, shots=10000)"
   ]
  },
  {
   "cell_type": "markdown",
   "id": "0b021cb2",
   "metadata": {},
   "source": [
    "...and the actual QPU."
   ]
  },
  {
   "cell_type": "code",
   "execution_count": null,
   "id": "d6e94190",
   "metadata": {},
   "outputs": [],
   "source": [
    "resultsReal3 = []\n",
    "runEx3(steps, False, resultsReal3, shots=10000)"
   ]
  },
  {
   "cell_type": "markdown",
   "id": "46337ed2",
   "metadata": {},
   "source": [
    "We can now plot the results."
   ]
  },
  {
   "cell_type": "code",
   "execution_count": null,
   "id": "12426453",
   "metadata": {},
   "outputs": [],
   "source": [
    "fig, ax = mpl.subplots()\n",
    "ax.plot(steps, [x / shots for x in resultsSim3], label=\"Simulator\")\n",
    "ax.plot(steps, [x / shots for x in resultsReal3], label=\"Hardware\")\n",
    "\n",
    "ax.set(xlabel='Numer of rotations', ylabel='Probability of measuring 10', title='Gate error accumulation')\n",
    "ax.set_xscale('log')\n",
    "ax.grid()\n",
    "ax.legend()\n",
    "mpl.show()"
   ]
  },
  {
   "cell_type": "markdown",
   "id": "0cd61ff5",
   "metadata": {},
   "source": [
    "## 4. Accessing backend profile/metrics.\n",
    "* To utilize QPU more efficiently it may be beneficial to know the parameters — such as gate fidelity or readout errors rates — of our backend at any given time.\n",
    "<br><br>\n",
    "* Such parameters are also available throughout backend API, although they may indicate parameters measured during the most recent calibration etc.\n",
    "<br><br>\n",
    "* The method to obtain parameters is different for a simulator and a real QPU, some parameters for both backends are accessed in the example below.\n",
    "<br><br>\n",
    "* Parameters might be used to correct readout errors or choose the most reliable qubits (or qubit pairs) for gate operations etc."
   ]
  },
  {
   "cell_type": "code",
   "execution_count": null,
   "id": "98600635",
   "metadata": {},
   "outputs": [],
   "source": [
    "profile = simBackend.error_profile\n",
    "\n",
    "print(\"Readout error (0 → 1):\")\n",
    "for q in range(5):\n",
    "    value = float(profile.readout_errors[f'QB{q+1}']['0'])\n",
    "    print(f'  Q{q}: {value:.4f}')\n",
    "print(\"Readout error (1 → 0):\")\n",
    "for q in range(5):\n",
    "    value = float(profile.readout_errors[f'QB{q+1}']['1'])\n",
    "    print(f'  Q{q}: {value:.4f}')    \n",
    "print(\"Single-qubit gate fidelity:\")\n",
    "for q in range(5):\n",
    "    value = float(profile.single_qubit_gate_depolarizing_error_parameters['prx'][f'QB{q+1}'])\n",
    "    print(f'  Q{q}: {1-value:.4f}')\n",
    "print(\"Two-qubit gate fidelity:\")\n",
    "for q in range(5):\n",
    "    if q == 2:\n",
    "        continue\n",
    "    q2 = 2\n",
    "    if q > q2:\n",
    "        q, q2 = q2, q\n",
    "    value = float(profile.two_qubit_gate_depolarizing_error_parameters['cz'][(f'QB{q+1}'),(f'QB{q2+1}')])\n",
    "    print(f'  Q{q}-Q{q2}: {1-value:.4f}')    \n",
    "print(\"T1 time (μs):\")\n",
    "for q in range(5):\n",
    "    value = float(profile.t1s[f'QB{q+1}'])\n",
    "    print(f'  Q{q}: {value/1000:5.2f}')\n",
    "print(\"T2 time (μs):\")\n",
    "for q in range(5):\n",
    "    value = float(profile.t2s[f'QB{q+1}'])\n",
    "    print(f'  Q{q}: {value/1000:5.2f}')\n"
   ]
  },
  {
   "cell_type": "code",
   "execution_count": null,
   "id": "11fdf9b1",
   "metadata": {},
   "outputs": [],
   "source": [
    "realBackend = getRealBackend()\n",
    "metrics = realBackend.client.get_quality_metric_set().metrics\n",
    "\n",
    "print(\"Readout error (0 → 1):\")\n",
    "for q in range(5):\n",
    "    value = float(metrics[f'metrics.ssro.measure.constant.QB{q + 1}.error_0_to_1']['value'])\n",
    "    uncertainty = float(metrics[f'metrics.ssro.measure.constant.QB{q + 1}.error_0_to_1']['uncertainty'])\n",
    "    print(f'  Q{q}: {value:.4f} ± {uncertainty:.4f}')\n",
    "print(\"Readout error (1 → 0):\")\n",
    "for q in range(5):\n",
    "    value = float(metrics[f'metrics.ssro.measure.constant.QB{q + 1}.error_1_to_0']['value'])\n",
    "    uncertainty = float(metrics[f'metrics.ssro.measure.constant.QB{q + 1}.error_1_to_0']['uncertainty'])\n",
    "    print(f'  Q{q}: {value:.4f} ± {uncertainty:.4f}')\n",
    "print(\"Fidelity:\")\n",
    "for q in range(5):\n",
    "    value = float(metrics[f'metrics.ssro.measure.constant.QB{q + 1}.fidelity']['value'])\n",
    "    uncertainty = float(metrics[f'metrics.ssro.measure.constant.QB{q + 1}.fidelity']['uncertainty'])\n",
    "    print(f'  Q{q}: {value:.4f} ± {uncertainty:.4f}')\n",
    "print(\"T1 time (μs):\")\n",
    "for q in range(5):\n",
    "    value = float(metrics[f'characterization.model.QB{q+1}.t1_time']['value'])\n",
    "    uncertainty = float(metrics[f'characterization.model.QB{q+1}.t1_time']['uncertainty'])\n",
    "    print(f'  Q{q}: {value*1000000:5.2f} ± {uncertainty*1000000:.2f}')\n",
    "print(\"T2 time (μs):\")\n",
    "for q in range(5):\n",
    "    value = float(metrics[f'characterization.model.QB{q+1}.t2_time']['value'])\n",
    "    uncertainty = float(metrics[f'characterization.model.QB{q+1}.t2_time']['uncertainty'])\n",
    "    print(f'  Q{q}: {value*1000000:5.2f} ± {uncertainty*1000000:.2f}')\n",
    "print(\"T2 echo time (μs):\")\n",
    "for q in range(5):\n",
    "    value = float(metrics[f'characterization.model.QB{q+1}.t2_echo_time']['value'])\n",
    "    uncertainty = float(metrics[f'characterization.model.QB{q+1}.t2_echo_time']['uncertainty'])\n",
    "    print(f'  Q{q}: {value*1000000:5.2f} ± {uncertainty*1000000:.2f}')  "
   ]
  }
 ],
 "metadata": {
  "kernelspec": {
   "display_name": "hackaton",
   "language": "python",
   "name": "python3"
  },
  "language_info": {
   "codemirror_mode": {
    "name": "ipython",
    "version": 3
   },
   "file_extension": ".py",
   "mimetype": "text/x-python",
   "name": "python",
   "nbconvert_exporter": "python",
   "pygments_lexer": "ipython3",
   "version": "3.11.13"
  }
 },
 "nbformat": 4,
 "nbformat_minor": 5
}
